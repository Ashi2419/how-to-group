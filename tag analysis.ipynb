{
 "cells": [
  {
   "cell_type": "code",
   "execution_count": 3,
   "id": "b53a95f6",
   "metadata": {},
   "outputs": [],
   "source": [
    "import pandas as pd"
   ]
  },
  {
   "cell_type": "code",
   "execution_count": 4,
   "id": "37c119aa",
   "metadata": {},
   "outputs": [],
   "source": [
    "df = pd.read_csv(\"tags.csv\")"
   ]
  },
  {
   "cell_type": "code",
   "execution_count": 5,
   "id": "546e36d6",
   "metadata": {},
   "outputs": [
    {
     "data": {
      "text/html": [
       "<div>\n",
       "<style scoped>\n",
       "    .dataframe tbody tr th:only-of-type {\n",
       "        vertical-align: middle;\n",
       "    }\n",
       "\n",
       "    .dataframe tbody tr th {\n",
       "        vertical-align: top;\n",
       "    }\n",
       "\n",
       "    .dataframe thead th {\n",
       "        text-align: right;\n",
       "    }\n",
       "</style>\n",
       "<table border=\"1\" class=\"dataframe\">\n",
       "  <thead>\n",
       "    <tr style=\"text-align: right;\">\n",
       "      <th></th>\n",
       "      <th>tag</th>\n",
       "      <th>Frequency</th>\n",
       "    </tr>\n",
       "  </thead>\n",
       "  <tbody>\n",
       "    <tr>\n",
       "      <th>0</th>\n",
       "      <td>\"everyonehasaplantilltheygetpunchedinthemouth\"...</td>\n",
       "      <td>1</td>\n",
       "    </tr>\n",
       "    <tr>\n",
       "      <th>1</th>\n",
       "      <td>00daysofcode</td>\n",
       "      <td>1</td>\n",
       "    </tr>\n",
       "    <tr>\n",
       "      <th>2</th>\n",
       "      <td>00daysofcommitment</td>\n",
       "      <td>1</td>\n",
       "    </tr>\n",
       "    <tr>\n",
       "      <th>3</th>\n",
       "      <td>30daychallenges</td>\n",
       "      <td>1</td>\n",
       "    </tr>\n",
       "    <tr>\n",
       "      <th>4</th>\n",
       "      <td>30daysofgooglecloud</td>\n",
       "      <td>1</td>\n",
       "    </tr>\n",
       "  </tbody>\n",
       "</table>\n",
       "</div>"
      ],
      "text/plain": [
       "                                                 tag  Frequency\n",
       "0  \"everyonehasaplantilltheygetpunchedinthemouth\"...          1\n",
       "1                                       00daysofcode          1\n",
       "2                                 00daysofcommitment          1\n",
       "3                                    30daychallenges          1\n",
       "4                                30daysofgooglecloud          1"
      ]
     },
     "execution_count": 5,
     "metadata": {},
     "output_type": "execute_result"
    }
   ],
   "source": [
    "df.head()"
   ]
  },
  {
   "cell_type": "code",
   "execution_count": 6,
   "id": "75ecc859",
   "metadata": {},
   "outputs": [],
   "source": [
    "def clean_tag(tag):\n",
    "    if isinstance(tag,str):\n",
    "        tag = tag.strip().lower()\n",
    "        return tag"
   ]
  },
  {
   "cell_type": "code",
   "execution_count": 7,
   "id": "65d177ec",
   "metadata": {},
   "outputs": [],
   "source": [
    "df['cleaned_tag'] = df['tag'].apply(clean_tag)"
   ]
  },
  {
   "cell_type": "code",
   "execution_count": 23,
   "id": "924c1701",
   "metadata": {},
   "outputs": [
    {
     "data": {
      "text/html": [
       "<div>\n",
       "<style scoped>\n",
       "    .dataframe tbody tr th:only-of-type {\n",
       "        vertical-align: middle;\n",
       "    }\n",
       "\n",
       "    .dataframe tbody tr th {\n",
       "        vertical-align: top;\n",
       "    }\n",
       "\n",
       "    .dataframe thead th {\n",
       "        text-align: right;\n",
       "    }\n",
       "</style>\n",
       "<table border=\"1\" class=\"dataframe\">\n",
       "  <thead>\n",
       "    <tr style=\"text-align: right;\">\n",
       "      <th></th>\n",
       "      <th>tag</th>\n",
       "      <th>Frequency</th>\n",
       "      <th>cleaned_tag</th>\n",
       "      <th>standardized_tag</th>\n",
       "      <th>categories</th>\n",
       "    </tr>\n",
       "  </thead>\n",
       "  <tbody>\n",
       "    <tr>\n",
       "      <th>3</th>\n",
       "      <td>30daychallenges</td>\n",
       "      <td>1</td>\n",
       "      <td>30daychallenges</td>\n",
       "      <td>30daychallenges</td>\n",
       "      <td>[]</td>\n",
       "    </tr>\n",
       "    <tr>\n",
       "      <th>4</th>\n",
       "      <td>30daysofgooglecloud</td>\n",
       "      <td>1</td>\n",
       "      <td>30daysofgooglecloud</td>\n",
       "      <td>30daysofgooglecloud</td>\n",
       "      <td>[]</td>\n",
       "    </tr>\n",
       "    <tr>\n",
       "      <th>6</th>\n",
       "      <td>3danimation</td>\n",
       "      <td>1</td>\n",
       "      <td>3danimation</td>\n",
       "      <td>3danimation</td>\n",
       "      <td>[3d]</td>\n",
       "    </tr>\n",
       "    <tr>\n",
       "      <th>8</th>\n",
       "      <td>3dart</td>\n",
       "      <td>1</td>\n",
       "      <td>3dart</td>\n",
       "      <td>3dart</td>\n",
       "      <td>[3d]</td>\n",
       "    </tr>\n",
       "    <tr>\n",
       "      <th>13</th>\n",
       "      <td>3ddesigning</td>\n",
       "      <td>1</td>\n",
       "      <td>3ddesigning</td>\n",
       "      <td>3ddesigning</td>\n",
       "      <td>[3d]</td>\n",
       "    </tr>\n",
       "  </tbody>\n",
       "</table>\n",
       "</div>"
      ],
      "text/plain": [
       "                    tag  Frequency          cleaned_tag     standardized_tag  \\\n",
       "3       30daychallenges          1      30daychallenges      30daychallenges   \n",
       "4   30daysofgooglecloud          1  30daysofgooglecloud  30daysofgooglecloud   \n",
       "6           3danimation          1          3danimation          3danimation   \n",
       "8                 3dart          1                3dart                3dart   \n",
       "13          3ddesigning          1          3ddesigning          3ddesigning   \n",
       "\n",
       "   categories  \n",
       "3          []  \n",
       "4          []  \n",
       "6        [3d]  \n",
       "8        [3d]  \n",
       "13       [3d]  "
      ]
     },
     "execution_count": 23,
     "metadata": {},
     "output_type": "execute_result"
    }
   ],
   "source": [
    "valid_tags = df['cleaned_tag'].notnull() &df['cleaned_tag'].str.len()>0\n",
    "df = df[valid_tags]\n",
    "df.head()"
   ]
  },
  {
   "cell_type": "code",
   "execution_count": 9,
   "id": "3983910c",
   "metadata": {},
   "outputs": [],
   "source": [
    "#for groups\n",
    "tag_groups = {\n",
    "    'javascript' : ['javascript', 'js'],\n",
    "    'python' : ['python' , 'py'],\n",
    "    'ai' : ['ai' ,'ai&ds' ,'ai&machinelearning' ,'ai&ml' ,'ai/deeplearning' ,'ai/ml' ,'ai/mldatascience' ,'ai/mldeveloper' ,'ai/mldevelopment' ,'ai/mlengineer' ,'ai/mlenthusiast' ,'ai/mlmodeling' ,'ai/ms' ,'aiadvancements' ,'aialgorithms' ,'aiandmachinelearning' ,'aiandmi' ,'aiandml' ,'ai-apm' ,'aiapps' ,'aiasiaodyssey' ,'ai-automation' ,'ai-basedchatbot' ,'aibot' ,'aibuilder' ,'aichatbot' ,'aidesign' ,'aideveloper' ,'aideveloppment' ,'aiengineering'],\n",
    "    'aiml' : ['aiml','ai-ml'],\n",
    "    'html' : ['html' , 'htm'],\n",
    "    'node.js' : ['node.js' ,'nodejs' ,'node'],\n",
    "    'react' : ['react' , 'reactjs' ,'react.js'],\n",
    "    'angular' : ['angular' ,'angularjs'],\n",
    "    '5g' : ['5g' ,'5gcore' ,'5gdeveloper' ,'5g-nr'],\n",
    "}"
   ]
  },
  {
   "cell_type": "code",
   "execution_count": 10,
   "id": "2882d2f2",
   "metadata": {},
   "outputs": [],
   "source": [
    "def map_tag(tag):\n",
    "    for key, values in tag_groups.items():\n",
    "        if tag in values:\n",
    "            return key\n",
    "        return tag   "
   ]
  },
  {
   "cell_type": "code",
   "execution_count": 11,
   "id": "cc65df52",
   "metadata": {},
   "outputs": [
    {
     "data": {
      "text/html": [
       "<div>\n",
       "<style scoped>\n",
       "    .dataframe tbody tr th:only-of-type {\n",
       "        vertical-align: middle;\n",
       "    }\n",
       "\n",
       "    .dataframe tbody tr th {\n",
       "        vertical-align: top;\n",
       "    }\n",
       "\n",
       "    .dataframe thead th {\n",
       "        text-align: right;\n",
       "    }\n",
       "</style>\n",
       "<table border=\"1\" class=\"dataframe\">\n",
       "  <thead>\n",
       "    <tr style=\"text-align: right;\">\n",
       "      <th></th>\n",
       "      <th>tag</th>\n",
       "      <th>Frequency</th>\n",
       "      <th>cleaned_tag</th>\n",
       "      <th>standardized_tag</th>\n",
       "    </tr>\n",
       "  </thead>\n",
       "  <tbody>\n",
       "    <tr>\n",
       "      <th>0</th>\n",
       "      <td>\"everyonehasaplantilltheygetpunchedinthemouth\"...</td>\n",
       "      <td>1</td>\n",
       "      <td>\"everyonehasaplantilltheygetpunchedinthemouth\"...</td>\n",
       "      <td>\"everyonehasaplantilltheygetpunchedinthemouth\"...</td>\n",
       "    </tr>\n",
       "    <tr>\n",
       "      <th>1</th>\n",
       "      <td>00daysofcode</td>\n",
       "      <td>1</td>\n",
       "      <td>00daysofcode</td>\n",
       "      <td>00daysofcode</td>\n",
       "    </tr>\n",
       "    <tr>\n",
       "      <th>2</th>\n",
       "      <td>00daysofcommitment</td>\n",
       "      <td>1</td>\n",
       "      <td>00daysofcommitment</td>\n",
       "      <td>00daysofcommitment</td>\n",
       "    </tr>\n",
       "    <tr>\n",
       "      <th>3</th>\n",
       "      <td>30daychallenges</td>\n",
       "      <td>1</td>\n",
       "      <td>30daychallenges</td>\n",
       "      <td>30daychallenges</td>\n",
       "    </tr>\n",
       "    <tr>\n",
       "      <th>4</th>\n",
       "      <td>30daysofgooglecloud</td>\n",
       "      <td>1</td>\n",
       "      <td>30daysofgooglecloud</td>\n",
       "      <td>30daysofgooglecloud</td>\n",
       "    </tr>\n",
       "  </tbody>\n",
       "</table>\n",
       "</div>"
      ],
      "text/plain": [
       "                                                 tag  Frequency  \\\n",
       "0  \"everyonehasaplantilltheygetpunchedinthemouth\"...          1   \n",
       "1                                       00daysofcode          1   \n",
       "2                                 00daysofcommitment          1   \n",
       "3                                    30daychallenges          1   \n",
       "4                                30daysofgooglecloud          1   \n",
       "\n",
       "                                         cleaned_tag  \\\n",
       "0  \"everyonehasaplantilltheygetpunchedinthemouth\"...   \n",
       "1                                       00daysofcode   \n",
       "2                                 00daysofcommitment   \n",
       "3                                    30daychallenges   \n",
       "4                                30daysofgooglecloud   \n",
       "\n",
       "                                    standardized_tag  \n",
       "0  \"everyonehasaplantilltheygetpunchedinthemouth\"...  \n",
       "1                                       00daysofcode  \n",
       "2                                 00daysofcommitment  \n",
       "3                                    30daychallenges  \n",
       "4                                30daysofgooglecloud  "
      ]
     },
     "execution_count": 11,
     "metadata": {},
     "output_type": "execute_result"
    }
   ],
   "source": [
    "df['standardized_tag'] = df['cleaned_tag'].apply(map_tag)\n",
    "df.head()"
   ]
  },
  {
   "cell_type": "code",
   "execution_count": 13,
   "id": "84a3ef72",
   "metadata": {},
   "outputs": [],
   "source": [
    "#for categories\n",
    "tag_categories = {\n",
    "    'web development' : ['front end development','front end web developer','web developer','redux','wed dev','vuejs','javascript','xml','html','css','node.js','react','angular','python','php','api','java','ruby','c','c++','reactjs','reactnative'],\n",
    "    'Data Science' : ['data analysts','data analytical','database','data base','python','artifitial intelligence','tableau','statistical analytics','statistical','statistical data analysis','statistical modelling','aiml','tensorflow','pytorch','ai','machine learning','data analysis','r','sql','deep-learning','julia','scala','sas','matlab','data science','data mining','data scientist','data scraping'],\n",
    "    'Backend': ['django', 'flask', 'nodejs','backend','sql','nosql','python','snowflake','go','php','ruby','dbms','database management','database management system (dbms)','database management systems','database skills','database(mongodb)','databases','bigdata','tableau','powerbi'],\n",
    "    'AndroidApp Development':['swift','java','kotlin','react','flutter','react native','app development','android','redux','android app','android app developer','android app development','android application','bigdata','flutter app','flutter app development'],\n",
    "    'Commudle':['commudle','devfest','devfest2019','devfest2023','devfest2023 new delhi','devfestnewdelhi2023','devfestnewdelhi22'],\n",
    "    'Web Design':['web designing','html','css','javascript','sass','less','typescript','wordpress','bootstrap','tailwind css' ,'svg','wordpress','canvas','figma'],\n",
    "    'Cyber Security':['cyber security','c','c++','assembly language','python','data security','web','bash','powershell','c#','java','sql','ruby','cyber','cyber crime','cyber defence','cyber ethical hacking','cyber forensics'],\n",
    "    'Marketing':['marketing','sales','digital marketing','social media handling','social media management','social media marketer','social media strategist','social media strategy'],\n",
    "    'Software development':['software development','prototyping','uiux design','uiux designer','ui/ux','sed','ui design','testing and debugging','spring boot','c','c++','python'],\n",
    "    'MS Office':['ms office','ms word','ms excel','documentation'],\n",
    "    'Social Media':['social media','video editing','website'],\n",
    "    'DSA':['dsa','dsa problem solving','redis','dbms','database management','database management system (dbms)','database management systems','database skills','database(mongodb)','databases'],\n",
    "    'Fresher':['internship','freelancing','freelance','fresher','artists','student','startup'],\n",
    "    'Graphic Designing':['unity3d','unity','vfx','graphic designing','blender','3d design', '2d designing' ,'3d printing','3d designer', '3d modeling','3d printing'],\n",
    "    'Soft skill':['softskills','foreign language','programming','writing','public speaking','time management','team management','team work','problem solving','creative mind','technical writing','coding','designers','designing','spiritual','creative problem solver','reasoning skill','resarch skill','self discipline','self management','respect','creative skills','creative strategy','creative thinking','creativity and innovation','creativity skills','creator'],\n",
    "    'Community':['community','wow','gdg','gdg cloud community','gdg event','gdg new delhi','gdg noida','gdg-new-delhi'],\n",
    "    'Full Stack':['full stack','c','c++'],\n",
    "    'Data Visualization':['datavisualization'],\n",
    "    'Animator':['3d animator','animation','anime'],\n",
    "    'Cloud conputing':['cloud','cloud admin','aws','aws cloud','aws basic','aws/azure','aws solution architect','awsec2','aws cognito','cloud adoption stratagy','cloud analyst','cloud application','cloud architect','cloud azure','cloud compute','cloud computing','cloud data engineer','cloud database engineer','cloud dev','cloud developer','cloud development','cloud deveops','cloud engineering'],\n",
    "    'BlockChain':['block chain','bitcoin','blockchaindeveloper','block chain developer','blockchain architecture','blockchain engineer','blockchain enthusiast','blockchain fundamentals','blockchain research','blockchain talk','blockchain technology','blockchain writer'],\n",
    "    '3d' : ['3dart' ,'3danimation' ,'3dartist' ,'3ddesign' ,'3ddesigner','3ddesigning' ,'3dmodelling' ,'3dmodellingandanimation' ,'3danimator' ,'3dmodellinganimator' ,'3dprinting' ,'3drender' ,'3dsmax'],\n",
    "     'access' : ['access' ,'accessibility' ,'accessibilitydesign' ,'accessibilitydevelopment' ,'accessibilitytesting' ,'accessible'],\n",
    "    'adobe' : ['adobe' ,'adobeafteraffects' ,'adobeanalytics' ,'adobeanimate' ,'adobecaptivate' ,'adobecreativecloud' ,'adobecreativesuite' ,'adobeexperiencedesign' ,'adobeexperiencemanager' ,'adobeexpert' ,'adobeflash' ,'adobeillistrator' ,'adobeindesign' ,'adobelightroom' ,'adobephotoshop' ,'adobepremier' ,'adobepremierepro' ,'adobepythoncsqlhtmlcss' ,'adobesuite' ,'adobexd'],\n",
    "    }"
   ]
  },
  {
   "cell_type": "code",
   "execution_count": 14,
   "id": "484e90ef",
   "metadata": {},
   "outputs": [],
   "source": [
    "def categorize_tag(tag):\n",
    "    categories = []\n",
    "    for category , tags in tag_categories.items():\n",
    "        if tag in tags:\n",
    "            categories.append(category)\n",
    "    return categories"
   ]
  },
  {
   "cell_type": "code",
   "execution_count": 15,
   "id": "14f37c45",
   "metadata": {},
   "outputs": [
    {
     "data": {
      "text/html": [
       "<div>\n",
       "<style scoped>\n",
       "    .dataframe tbody tr th:only-of-type {\n",
       "        vertical-align: middle;\n",
       "    }\n",
       "\n",
       "    .dataframe tbody tr th {\n",
       "        vertical-align: top;\n",
       "    }\n",
       "\n",
       "    .dataframe thead th {\n",
       "        text-align: right;\n",
       "    }\n",
       "</style>\n",
       "<table border=\"1\" class=\"dataframe\">\n",
       "  <thead>\n",
       "    <tr style=\"text-align: right;\">\n",
       "      <th></th>\n",
       "      <th>tag</th>\n",
       "      <th>Frequency</th>\n",
       "      <th>cleaned_tag</th>\n",
       "      <th>standardized_tag</th>\n",
       "      <th>categories</th>\n",
       "    </tr>\n",
       "  </thead>\n",
       "  <tbody>\n",
       "    <tr>\n",
       "      <th>0</th>\n",
       "      <td>\"everyonehasaplantilltheygetpunchedinthemouth\"...</td>\n",
       "      <td>1</td>\n",
       "      <td>\"everyonehasaplantilltheygetpunchedinthemouth\"...</td>\n",
       "      <td>\"everyonehasaplantilltheygetpunchedinthemouth\"...</td>\n",
       "      <td>[]</td>\n",
       "    </tr>\n",
       "    <tr>\n",
       "      <th>1</th>\n",
       "      <td>00daysofcode</td>\n",
       "      <td>1</td>\n",
       "      <td>00daysofcode</td>\n",
       "      <td>00daysofcode</td>\n",
       "      <td>[]</td>\n",
       "    </tr>\n",
       "    <tr>\n",
       "      <th>2</th>\n",
       "      <td>00daysofcommitment</td>\n",
       "      <td>1</td>\n",
       "      <td>00daysofcommitment</td>\n",
       "      <td>00daysofcommitment</td>\n",
       "      <td>[]</td>\n",
       "    </tr>\n",
       "    <tr>\n",
       "      <th>3</th>\n",
       "      <td>30daychallenges</td>\n",
       "      <td>1</td>\n",
       "      <td>30daychallenges</td>\n",
       "      <td>30daychallenges</td>\n",
       "      <td>[]</td>\n",
       "    </tr>\n",
       "    <tr>\n",
       "      <th>4</th>\n",
       "      <td>30daysofgooglecloud</td>\n",
       "      <td>1</td>\n",
       "      <td>30daysofgooglecloud</td>\n",
       "      <td>30daysofgooglecloud</td>\n",
       "      <td>[]</td>\n",
       "    </tr>\n",
       "  </tbody>\n",
       "</table>\n",
       "</div>"
      ],
      "text/plain": [
       "                                                 tag  Frequency  \\\n",
       "0  \"everyonehasaplantilltheygetpunchedinthemouth\"...          1   \n",
       "1                                       00daysofcode          1   \n",
       "2                                 00daysofcommitment          1   \n",
       "3                                    30daychallenges          1   \n",
       "4                                30daysofgooglecloud          1   \n",
       "\n",
       "                                         cleaned_tag  \\\n",
       "0  \"everyonehasaplantilltheygetpunchedinthemouth\"...   \n",
       "1                                       00daysofcode   \n",
       "2                                 00daysofcommitment   \n",
       "3                                    30daychallenges   \n",
       "4                                30daysofgooglecloud   \n",
       "\n",
       "                                    standardized_tag categories  \n",
       "0  \"everyonehasaplantilltheygetpunchedinthemouth\"...         []  \n",
       "1                                       00daysofcode         []  \n",
       "2                                 00daysofcommitment         []  \n",
       "3                                    30daychallenges         []  \n",
       "4                                30daysofgooglecloud         []  "
      ]
     },
     "execution_count": 15,
     "metadata": {},
     "output_type": "execute_result"
    }
   ],
   "source": [
    "df['categories'] = df['standardized_tag'].apply(categorize_tag)\n",
    "df.head()"
   ]
  },
  {
   "cell_type": "code",
   "execution_count": 16,
   "id": "839320fb",
   "metadata": {},
   "outputs": [],
   "source": [
    "#for summary\n",
    "total_tags = df['tag'].nunique()"
   ]
  },
  {
   "cell_type": "code",
   "execution_count": 17,
   "id": "467f8dd5",
   "metadata": {},
   "outputs": [],
   "source": [
    "valid_tags = df['standardized_tag'].nunique()"
   ]
  },
  {
   "cell_type": "code",
   "execution_count": 18,
   "id": "2422b09d",
   "metadata": {},
   "outputs": [],
   "source": [
    "invalid_tags = total_tags - valid_tags"
   ]
  },
  {
   "cell_type": "code",
   "execution_count": 19,
   "id": "ee2ee31c",
   "metadata": {},
   "outputs": [],
   "source": [
    "most_popular_tags = df.groupby('standardized_tag')['Frequency'].sum().sort_values(ascending=False).head(10)"
   ]
  },
  {
   "cell_type": "code",
   "execution_count": 20,
   "id": "e50c6490",
   "metadata": {},
   "outputs": [],
   "source": [
    "most_popular_categories = df.explode('categories').groupby('categories')['Frequency'].sum().sort_values(ascending=False).head(10)"
   ]
  },
  {
   "cell_type": "code",
   "execution_count": 21,
   "id": "0a322f25",
   "metadata": {},
   "outputs": [],
   "source": [
    "summary = {\n",
    "    'TOTAL TAGS' : total_tags,\n",
    "    'VALID TAGS' : valid_tags,\n",
    "    'INVALID TAGS' : invalid_tags,\n",
    "    'MOST POPULAR TAGS' : most_popular_tags,\n",
    "    'MOST POPULAR TAG CATEGOIES' : most_popular_categories\n",
    "}"
   ]
  },
  {
   "cell_type": "code",
   "execution_count": 22,
   "id": "a7f75a44",
   "metadata": {},
   "outputs": [
    {
     "name": "stdout",
     "output_type": "stream",
     "text": [
      "TOTAL TAGS:\n",
      "8542\n",
      "\n",
      "VALID TAGS:\n",
      "8477\n",
      "\n",
      "INVALID TAGS:\n",
      "65\n",
      "\n",
      "MOST POPULAR TAGS:\n",
      "standardized_tag\n",
      "🎖4xmicrosoftcertified        14527\n",
      "c++/dsa                      14400\n",
      "python(learning)             13328\n",
      "appliedresearch              12512\n",
      "javaspringboot               12394\n",
      "career                       10730\n",
      "machinelearningalgorithms    10705\n",
      "javac                        10563\n",
      "curated                       9021\n",
      "html5/css3                    7744\n",
      "Name: Frequency, dtype: int64\n",
      "\n",
      "MOST POPULAR TAG CATEGOIES:\n",
      "categories\n",
      "Backend                   1090\n",
      "web development            749\n",
      "Commudle                   293\n",
      "Software development       116\n",
      "Cyber Security             105\n",
      "Data Science                97\n",
      "Web Design                  55\n",
      "Graphic Designing           53\n",
      "Cloud conputing             36\n",
      "AndroidApp Development      32\n",
      "Name: Frequency, dtype: int64\n",
      "\n"
     ]
    }
   ],
   "source": [
    "for key, value in summary.items():\n",
    "    print(f\"{key}:\")\n",
    "    print(value)\n",
    "    print()"
   ]
  },
  {
   "cell_type": "code",
   "execution_count": null,
   "id": "2d2e5767",
   "metadata": {},
   "outputs": [],
   "source": []
  },
  {
   "cell_type": "code",
   "execution_count": null,
   "id": "81c42b97",
   "metadata": {},
   "outputs": [],
   "source": []
  }
 ],
 "metadata": {
  "kernelspec": {
   "display_name": "Python 3 (ipykernel)",
   "language": "python",
   "name": "python3"
  },
  "language_info": {
   "codemirror_mode": {
    "name": "ipython",
    "version": 3
   },
   "file_extension": ".py",
   "mimetype": "text/x-python",
   "name": "python",
   "nbconvert_exporter": "python",
   "pygments_lexer": "ipython3",
   "version": "3.11.4"
  }
 },
 "nbformat": 4,
 "nbformat_minor": 5
}
